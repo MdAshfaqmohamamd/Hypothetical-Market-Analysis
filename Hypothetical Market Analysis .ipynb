{
 "cells": [
  {
   "cell_type": "markdown",
   "id": "1dd790c7",
   "metadata": {},
   "source": [
    "# business problem understanding\n",
    "- (hypothetical) marketing department needs some help in focussing on the most important market segment. Instead of marketing to everyone, they need our help in identifying who our most profitable customers are. Are they married or unmarried, working or retired, premium or budget buyers etc… This will help them position things better.\n",
    "\n",
    "- Also, they need help in identifying the bestselling products. \n",
    "\n",
    "- So, given the transaction data, help us identify the top 3 most profitable products and characteristics of our most loyal customers.  Also include your hypothesis of why you think the loyal customers like"
   ]
  },
  {
   "cell_type": "code",
   "execution_count": 97,
   "id": "dbba9d45",
   "metadata": {},
   "outputs": [],
   "source": [
    "import numpy as np\n",
    "import pandas as pd\n",
    "import matplotlib.pyplot as plt\n",
    "import seaborn as sns\n",
    "from sklearn.preprocessing import LabelEncoder\n",
    "from sklearn.model_selection import train_test_split\n",
    "from sklearn.ensemble import RandomForestClassifier\n",
    "from sklearn.metrics import accuracy_score, classification_report, confusion_matrix\n",
    "import warnings \n",
    "warnings.filterwarnings('ignore')\n"
   ]
  },
  {
   "cell_type": "code",
   "execution_count": 98,
   "id": "556a5eda",
   "metadata": {},
   "outputs": [],
   "source": [
    "df1=pd.read_csv(r\"D:\\transaction_data.csv\")"
   ]
  },
  {
   "cell_type": "code",
   "execution_count": 99,
   "id": "1e3c509b",
   "metadata": {},
   "outputs": [],
   "source": [
    "df2=pd.read_csv(r\"D:\\purchase_behaviour.csv\")\n"
   ]
  },
  {
   "cell_type": "code",
   "execution_count": 100,
   "id": "b5e2ec43",
   "metadata": {},
   "outputs": [],
   "source": [
    "data=pd.merge(df1, df2,how='right')"
   ]
  },
  {
   "cell_type": "code",
   "execution_count": 101,
   "id": "fb7b1e20",
   "metadata": {},
   "outputs": [
    {
     "data": {
      "text/html": [
       "<div>\n",
       "<style scoped>\n",
       "    .dataframe tbody tr th:only-of-type {\n",
       "        vertical-align: middle;\n",
       "    }\n",
       "\n",
       "    .dataframe tbody tr th {\n",
       "        vertical-align: top;\n",
       "    }\n",
       "\n",
       "    .dataframe thead th {\n",
       "        text-align: right;\n",
       "    }\n",
       "</style>\n",
       "<table border=\"1\" class=\"dataframe\">\n",
       "  <thead>\n",
       "    <tr style=\"text-align: right;\">\n",
       "      <th></th>\n",
       "      <th>DATE</th>\n",
       "      <th>STORE_NBR</th>\n",
       "      <th>LYLTY_CARD_NBR</th>\n",
       "      <th>TXN_ID</th>\n",
       "      <th>PROD_NBR</th>\n",
       "      <th>PROD_NAME</th>\n",
       "      <th>PROD_QTY</th>\n",
       "      <th>TOT_SALES</th>\n",
       "      <th>LIFESTAGE</th>\n",
       "      <th>PREMIUM_CUSTOMER</th>\n",
       "    </tr>\n",
       "  </thead>\n",
       "  <tbody>\n",
       "    <tr>\n",
       "      <th>0</th>\n",
       "      <td>43390</td>\n",
       "      <td>1</td>\n",
       "      <td>1000</td>\n",
       "      <td>1</td>\n",
       "      <td>5</td>\n",
       "      <td>Natural Chip        Compny SeaSalt175g</td>\n",
       "      <td>2</td>\n",
       "      <td>6.0</td>\n",
       "      <td>YOUNG SINGLES/COUPLES</td>\n",
       "      <td>Premium</td>\n",
       "    </tr>\n",
       "    <tr>\n",
       "      <th>1</th>\n",
       "      <td>43359</td>\n",
       "      <td>1</td>\n",
       "      <td>1002</td>\n",
       "      <td>2</td>\n",
       "      <td>58</td>\n",
       "      <td>Red Rock Deli Chikn&amp;Garlic Aioli 150g</td>\n",
       "      <td>1</td>\n",
       "      <td>2.7</td>\n",
       "      <td>YOUNG SINGLES/COUPLES</td>\n",
       "      <td>Mainstream</td>\n",
       "    </tr>\n",
       "    <tr>\n",
       "      <th>2</th>\n",
       "      <td>43531</td>\n",
       "      <td>1</td>\n",
       "      <td>1003</td>\n",
       "      <td>3</td>\n",
       "      <td>52</td>\n",
       "      <td>Grain Waves Sour    Cream&amp;Chives 210G</td>\n",
       "      <td>1</td>\n",
       "      <td>3.6</td>\n",
       "      <td>YOUNG FAMILIES</td>\n",
       "      <td>Budget</td>\n",
       "    </tr>\n",
       "    <tr>\n",
       "      <th>3</th>\n",
       "      <td>43532</td>\n",
       "      <td>1</td>\n",
       "      <td>1003</td>\n",
       "      <td>4</td>\n",
       "      <td>106</td>\n",
       "      <td>Natural ChipCo      Hony Soy Chckn175g</td>\n",
       "      <td>1</td>\n",
       "      <td>3.0</td>\n",
       "      <td>YOUNG FAMILIES</td>\n",
       "      <td>Budget</td>\n",
       "    </tr>\n",
       "    <tr>\n",
       "      <th>4</th>\n",
       "      <td>43406</td>\n",
       "      <td>1</td>\n",
       "      <td>1004</td>\n",
       "      <td>5</td>\n",
       "      <td>96</td>\n",
       "      <td>WW Original Stacked Chips 160g</td>\n",
       "      <td>1</td>\n",
       "      <td>1.9</td>\n",
       "      <td>OLDER SINGLES/COUPLES</td>\n",
       "      <td>Mainstream</td>\n",
       "    </tr>\n",
       "  </tbody>\n",
       "</table>\n",
       "</div>"
      ],
      "text/plain": [
       "    DATE  STORE_NBR  LYLTY_CARD_NBR  TXN_ID  PROD_NBR  \\\n",
       "0  43390          1            1000       1         5   \n",
       "1  43359          1            1002       2        58   \n",
       "2  43531          1            1003       3        52   \n",
       "3  43532          1            1003       4       106   \n",
       "4  43406          1            1004       5        96   \n",
       "\n",
       "                                PROD_NAME  PROD_QTY  TOT_SALES  \\\n",
       "0  Natural Chip        Compny SeaSalt175g         2        6.0   \n",
       "1   Red Rock Deli Chikn&Garlic Aioli 150g         1        2.7   \n",
       "2   Grain Waves Sour    Cream&Chives 210G         1        3.6   \n",
       "3  Natural ChipCo      Hony Soy Chckn175g         1        3.0   \n",
       "4          WW Original Stacked Chips 160g         1        1.9   \n",
       "\n",
       "               LIFESTAGE PREMIUM_CUSTOMER  \n",
       "0  YOUNG SINGLES/COUPLES          Premium  \n",
       "1  YOUNG SINGLES/COUPLES       Mainstream  \n",
       "2         YOUNG FAMILIES           Budget  \n",
       "3         YOUNG FAMILIES           Budget  \n",
       "4  OLDER SINGLES/COUPLES       Mainstream  "
      ]
     },
     "execution_count": 101,
     "metadata": {},
     "output_type": "execute_result"
    }
   ],
   "source": [
    "data.head()"
   ]
  },
  {
   "cell_type": "code",
   "execution_count": 102,
   "id": "b0fadeed",
   "metadata": {},
   "outputs": [
    {
     "name": "stdout",
     "output_type": "stream",
     "text": [
      "<class 'pandas.core.frame.DataFrame'>\n",
      "RangeIndex: 264836 entries, 0 to 264835\n",
      "Data columns (total 10 columns):\n",
      " #   Column            Non-Null Count   Dtype  \n",
      "---  ------            --------------   -----  \n",
      " 0   DATE              264836 non-null  int64  \n",
      " 1   STORE_NBR         264836 non-null  int64  \n",
      " 2   LYLTY_CARD_NBR    264836 non-null  int64  \n",
      " 3   TXN_ID            264836 non-null  int64  \n",
      " 4   PROD_NBR          264836 non-null  int64  \n",
      " 5   PROD_NAME         264836 non-null  object \n",
      " 6   PROD_QTY          264836 non-null  int64  \n",
      " 7   TOT_SALES         264836 non-null  float64\n",
      " 8   LIFESTAGE         264836 non-null  object \n",
      " 9   PREMIUM_CUSTOMER  264836 non-null  object \n",
      "dtypes: float64(1), int64(6), object(3)\n",
      "memory usage: 20.2+ MB\n"
     ]
    }
   ],
   "source": [
    "data.info()"
   ]
  },
  {
   "cell_type": "code",
   "execution_count": 103,
   "id": "f9240c00",
   "metadata": {},
   "outputs": [
    {
     "data": {
      "text/plain": [
       "(264836, 10)"
      ]
     },
     "execution_count": 103,
     "metadata": {},
     "output_type": "execute_result"
    }
   ],
   "source": [
    "data.shape"
   ]
  },
  {
   "cell_type": "code",
   "execution_count": 104,
   "id": "fbf684cb",
   "metadata": {},
   "outputs": [
    {
     "data": {
      "text/plain": [
       "Index(['DATE', 'STORE_NBR', 'LYLTY_CARD_NBR', 'TXN_ID', 'PROD_NBR',\n",
       "       'PROD_NAME', 'PROD_QTY', 'TOT_SALES', 'LIFESTAGE', 'PREMIUM_CUSTOMER'],\n",
       "      dtype='object')"
      ]
     },
     "execution_count": 104,
     "metadata": {},
     "output_type": "execute_result"
    }
   ],
   "source": [
    "data.columns"
   ]
  },
  {
   "cell_type": "markdown",
   "id": "41310ab7",
   "metadata": {},
   "source": [
    "- drop meaningless data"
   ]
  },
  {
   "cell_type": "code",
   "execution_count": 105,
   "id": "6f4b06c6",
   "metadata": {},
   "outputs": [],
   "source": [
    "data.drop(columns=['DATE','STORE_NBR','LYLTY_CARD_NBR','TXN_ID','PROD_NBR'],inplace=True)"
   ]
  },
  {
   "cell_type": "code",
   "execution_count": 106,
   "id": "567e8353",
   "metadata": {},
   "outputs": [
    {
     "data": {
      "text/plain": [
       "Index(['PROD_NAME', 'PROD_QTY', 'TOT_SALES', 'LIFESTAGE', 'PREMIUM_CUSTOMER'], dtype='object')"
      ]
     },
     "execution_count": 106,
     "metadata": {},
     "output_type": "execute_result"
    }
   ],
   "source": [
    "data.columns\n"
   ]
  },
  {
   "cell_type": "code",
   "execution_count": 107,
   "id": "4714ac6d",
   "metadata": {},
   "outputs": [
    {
     "data": {
      "text/plain": [
       "array(['Natural Chip        Compny SeaSalt175g',\n",
       "       'Red Rock Deli Chikn&Garlic Aioli 150g',\n",
       "       'Grain Waves Sour    Cream&Chives 210G',\n",
       "       'Natural ChipCo      Hony Soy Chckn175g',\n",
       "       'WW Original Stacked Chips 160g', 'Cheetos Puffs 165g',\n",
       "       'Infuzions SourCream&Herbs Veg Strws 110g',\n",
       "       'RRD SR Slow Rst     Pork Belly 150g',\n",
       "       'Doritos Cheese      Supreme 330g', 'Doritos Mexicana    170g',\n",
       "       'Old El Paso Salsa   Dip Tomato Med 300g',\n",
       "       'GrnWves Plus Btroot & Chilli Jam 180g',\n",
       "       'Smiths Crinkle Cut  Chips Barbecue 170g',\n",
       "       'Kettle Sensations   Camembert & Fig 150g',\n",
       "       'Doritos Corn Chip Southern Chicken 150g',\n",
       "       'CCs Tasty Cheese    175g', 'Tostitos Splash Of  Lime 175g',\n",
       "       'Kettle 135g Swt Pot Sea Salt', 'RRD Salt & Vinegar  165g',\n",
       "       'Infuzions Mango     Chutny Papadums 70g',\n",
       "       'Smiths Crinkle Cut  Snag&Sauce 150g',\n",
       "       'Smiths Crinkle      Original 330g',\n",
       "       'RRD Sweet Chilli &  Sour Cream 165g',\n",
       "       'Smiths Chip Thinly  S/Cream&Onion 175g',\n",
       "       'Smiths Crinkle Chips Salt & Vinegar 330g',\n",
       "       'Red Rock Deli SR    Salsa & Mzzrlla 150g',\n",
       "       'Cobs Popd Sea Salt  Chips 110g',\n",
       "       'Natural ChipCo Sea  Salt & Vinegr 175g',\n",
       "       'Natural Chip Co     Tmato Hrb&Spce 175g', 'Burger Rings 220g',\n",
       "       'Woolworths Cheese   Rings 190g',\n",
       "       'Smiths Thinly       Swt Chli&S/Cream175G',\n",
       "       'Thins Chips Seasonedchicken 175g',\n",
       "       'Smiths Thinly Cut   Roast Chicken 175g',\n",
       "       'Tyrrells Crisps     Ched & Chives 165g',\n",
       "       'Doritos Corn Chips  Cheese Supreme 170g',\n",
       "       'Smiths Chip Thinly  Cut Original 175g',\n",
       "       'Smiths Crinkle Cut  Chips Original 170g',\n",
       "       'Thins Chips Light&  Tangy 175g',\n",
       "       'Doritos Corn Chips  Original 170g',\n",
       "       'Kettle Sensations   Siracha Lime 150g',\n",
       "       'Smiths Crinkle Cut  Salt & Vinegar 170g',\n",
       "       'Smith Crinkle Cut   Bolognese 150g', 'Cheezels Cheese 330g',\n",
       "       'Kettle Chilli 175g', 'Tyrrells Crisps     Lightly Salted 165g',\n",
       "       'Twisties Cheese     270g', 'WW Crinkle Cut      Chicken 175g',\n",
       "       'RRD Chilli&         Coconut 150g',\n",
       "       'Infuzions BBQ Rib   Prawn Crackers 110g',\n",
       "       'Sunbites Whlegrn    Crisps Frch/Onin 90g',\n",
       "       'Doritos Salsa       Medium 300g',\n",
       "       'Kettle Tortilla ChpsFeta&Garlic 150g',\n",
       "       'Smiths Crinkle Cut  French OnionDip 150g',\n",
       "       'WW D/Style Chip     Sea Salt 200g',\n",
       "       'Smiths Chip Thinly  CutSalt/Vinegr175g',\n",
       "       'Kettle Sensations   BBQ&Maple 150g',\n",
       "       'Old El Paso Salsa   Dip Tomato Mild 300g',\n",
       "       'Tostitos Smoked     Chipotle 175g', 'RRD Lime & Pepper   165g',\n",
       "       'CCs Nacho Cheese    175g', 'Snbts Whlgrn Crisps Cheddr&Mstrd 90g',\n",
       "       'Kettle Tortilla ChpsBtroot&Ricotta 150g',\n",
       "       'Pringles Sthrn FriedChicken 134g',\n",
       "       'Pringles Chicken    Salt Crips 134g',\n",
       "       'French Fries Potato Chips 175g',\n",
       "       'Kettle Mozzarella   Basil & Pesto 175g', 'CCs Original 175g',\n",
       "       'Tostitos Lightly    Salted 175g',\n",
       "       'Smiths Crnkle Chip  Orgnl Big Bag 380g',\n",
       "       'Smiths Crinkle Cut  Chips Chicken 170g',\n",
       "       'Smiths Crinkle Cut  Chips Chs&Onion170g', 'Twisties Chicken270g',\n",
       "       'Woolworths Medium   Salsa 300g',\n",
       "       'Red Rock Deli Sp    Salt & Truffle 150G',\n",
       "       'RRD Pc Sea Salt     165g', 'WW Supreme Cheese   Corn Chips 200g',\n",
       "       'WW Original Corn    Chips 200g', 'Woolworths Mild     Salsa 300g',\n",
       "       'Cheezels Cheese Box 125g', 'Doritos Salsa Mild  300g',\n",
       "       'Cobs Popd Swt/Chlli &Sr/Cream Chips 110g',\n",
       "       'Infzns Crn Crnchers Tangy Gcamole 110g',\n",
       "       'WW Sour Cream &OnionStacked Chips 160g',\n",
       "       'Pringles Mystery    Flavour 134g', 'Pringles Barbeque   134g',\n",
       "       'Grain Waves         Sweet Chilli 210g',\n",
       "       'Pringles Sweet&Spcy BBQ 134g', 'Kettle Original 175g',\n",
       "       'Infuzions Thai SweetChili PotatoMix 110g',\n",
       "       'Old El Paso Salsa   Dip Chnky Tom Ht300g',\n",
       "       'Smiths Crinkle Cut  Tomato Salsa 150g',\n",
       "       'Cheetos Chs & Bacon Balls 190g',\n",
       "       'Kettle Sweet Chilli And Sour Cream 175g',\n",
       "       'Doritos Corn Chips  Nacho Cheese 170g',\n",
       "       'Cobs Popd Sour Crm  &Chives Chips 110g',\n",
       "       'Red Rock Deli Thai  Chilli&Lime 150g',\n",
       "       'Twisties Cheese     Burger 250g',\n",
       "       'Kettle Sea Salt     And Vinegar 175g',\n",
       "       'WW Crinkle Cut      Original 175g',\n",
       "       'Dorito Corn Chp     Supreme 380g',\n",
       "       'Doritos Corn Chip Mexican Jalapeno 150g',\n",
       "       'Pringles SourCream  Onion 134g',\n",
       "       'Kettle Tortilla ChpsHny&Jlpno Chili 150g',\n",
       "       'RRD Steak &         Chimuchurri 150g',\n",
       "       'Thins Chips Salt &  Vinegar 175g',\n",
       "       'Thins Chips         Originl saltd 175g',\n",
       "       'RRD Honey Soy       Chicken 165g',\n",
       "       'Kettle Honey Soy    Chicken 175g',\n",
       "       'NCC Sour Cream &    Garden Chives 175g',\n",
       "       'Pringles Original   Crisps 134g',\n",
       "       'Smith Crinkle Cut   Mac N Cheese 150g',\n",
       "       'Thins Potato Chips  Hot & Spicy 175g', 'Pringles Slt Vingar 134g'],\n",
       "      dtype=object)"
      ]
     },
     "execution_count": 107,
     "metadata": {},
     "output_type": "execute_result"
    }
   ],
   "source": [
    "data['PROD_NAME'].unique()"
   ]
  },
  {
   "cell_type": "code",
   "execution_count": 108,
   "id": "6a945d68",
   "metadata": {},
   "outputs": [
    {
     "data": {
      "text/plain": [
       "114"
      ]
     },
     "execution_count": 108,
     "metadata": {},
     "output_type": "execute_result"
    }
   ],
   "source": [
    "data['PROD_NAME'].nunique()"
   ]
  },
  {
   "cell_type": "code",
   "execution_count": 109,
   "id": "16e2d416",
   "metadata": {},
   "outputs": [
    {
     "data": {
      "text/plain": [
       "PROD_NAME\n",
       "Kettle Mozzarella   Basil & Pesto 175g      3304\n",
       "Kettle Tortilla ChpsHny&Jlpno Chili 150g    3296\n",
       "Cobs Popd Swt/Chlli &Sr/Cream Chips 110g    3269\n",
       "Tyrrells Crisps     Ched & Chives 165g      3268\n",
       "Cobs Popd Sea Salt  Chips 110g              3265\n",
       "                                            ... \n",
       "RRD Pc Sea Salt     165g                    1431\n",
       "Woolworths Medium   Salsa 300g              1430\n",
       "NCC Sour Cream &    Garden Chives 175g      1419\n",
       "French Fries Potato Chips 175g              1418\n",
       "WW Crinkle Cut      Original 175g           1410\n",
       "Name: count, Length: 114, dtype: int64"
      ]
     },
     "execution_count": 109,
     "metadata": {},
     "output_type": "execute_result"
    }
   ],
   "source": [
    "data['PROD_NAME'].value_counts()"
   ]
  },
  {
   "cell_type": "code",
   "execution_count": 110,
   "id": "421df834",
   "metadata": {},
   "outputs": [
    {
     "data": {
      "text/plain": [
       "array([  2,   1,   4,   3,   5, 200], dtype=int64)"
      ]
     },
     "execution_count": 110,
     "metadata": {},
     "output_type": "execute_result"
    }
   ],
   "source": [
    "data['PROD_QTY'].unique()"
   ]
  },
  {
   "cell_type": "code",
   "execution_count": 111,
   "id": "d4f1ef44",
   "metadata": {},
   "outputs": [
    {
     "data": {
      "text/plain": [
       "PROD_QTY\n",
       "2      236039\n",
       "1       27518\n",
       "5         450\n",
       "3         430\n",
       "4         397\n",
       "200         2\n",
       "Name: count, dtype: int64"
      ]
     },
     "execution_count": 111,
     "metadata": {},
     "output_type": "execute_result"
    }
   ],
   "source": [
    "data['PROD_QTY'].value_counts()"
   ]
  },
  {
   "cell_type": "code",
   "execution_count": 112,
   "id": "8d1122e2",
   "metadata": {},
   "outputs": [
    {
     "data": {
      "text/plain": [
       "112"
      ]
     },
     "execution_count": 112,
     "metadata": {},
     "output_type": "execute_result"
    }
   ],
   "source": [
    "data['TOT_SALES'].nunique()"
   ]
  },
  {
   "cell_type": "code",
   "execution_count": 113,
   "id": "797f9498",
   "metadata": {},
   "outputs": [
    {
     "data": {
      "text/plain": [
       "array([  6.  ,   2.7 ,   3.6 ,   3.  ,   1.9 ,   2.8 ,   3.8 ,   5.7 ,\n",
       "         8.8 ,   5.1 ,   6.2 ,   2.9 ,   4.6 ,   3.9 ,   4.2 ,   4.4 ,\n",
       "         2.4 ,   3.1 ,   2.6 ,   2.1 ,   5.4 ,   2.3 ,   1.8 ,   3.3 ,\n",
       "         4.8 ,   5.8 ,   8.4 ,   1.7 ,   3.4 ,   7.4 ,   3.7 ,  10.8 ,\n",
       "         5.9 ,  11.8 ,   1.5 ,  10.2 ,   7.6 ,   6.6 ,   4.3 ,  11.4 ,\n",
       "         6.5 ,   7.8 ,   9.2 ,   5.2 ,   6.3 ,   7.2 ,   8.6 ,  10.4 ,\n",
       "        15.  ,  13.8 ,  13.  ,   3.25,  11.1 ,  17.7 ,   5.6 ,  22.  ,\n",
       "        18.4 ,  15.3 ,   9.9 ,  13.5 ,  13.2 ,  15.2 ,  17.6 ,  23.  ,\n",
       "        19.5 ,  12.  ,  11.6 ,  16.5 ,  18.5 ,  11.7 ,  22.8 ,   8.5 ,\n",
       "        14.8 ,  15.5 ,   9.  ,  12.6 ,  16.25,   9.6 ,  21.5 ,  17.1 ,\n",
       "        20.4 ,  14.5 ,  29.5 ,  10.5 ,  15.6 ,  19.  ,   6.8 ,  21.6 ,\n",
       "        16.2 ,   8.7 ,  27.  ,  25.5 ,   4.5 ,   9.5 ,  18.  ,   9.3 ,\n",
       "        23.6 ,  16.8 ,   9.75,  21.  ,  14.  ,   6.9 ,  14.4 ,   8.1 ,\n",
       "        11.5 ,  28.5 ,  12.4 ,  17.2 ,   7.5 ,  11.2 ,  12.9 , 650.  ])"
      ]
     },
     "execution_count": 113,
     "metadata": {},
     "output_type": "execute_result"
    }
   ],
   "source": [
    "data['TOT_SALES'].unique()"
   ]
  },
  {
   "cell_type": "code",
   "execution_count": 114,
   "id": "5ca7aff6",
   "metadata": {},
   "outputs": [
    {
     "data": {
      "text/plain": [
       "TOT_SALES\n",
       "9.2      22821\n",
       "7.4      22513\n",
       "6.0      20798\n",
       "7.6      20212\n",
       "8.8      19900\n",
       "         ...  \n",
       "9.3          3\n",
       "15.5         3\n",
       "12.4         2\n",
       "11.2         2\n",
       "650.0        2\n",
       "Name: count, Length: 112, dtype: int64"
      ]
     },
     "execution_count": 114,
     "metadata": {},
     "output_type": "execute_result"
    }
   ],
   "source": [
    "data['TOT_SALES'].value_counts()"
   ]
  },
  {
   "cell_type": "code",
   "execution_count": 115,
   "id": "8f085645",
   "metadata": {},
   "outputs": [
    {
     "data": {
      "text/plain": [
       "7"
      ]
     },
     "execution_count": 115,
     "metadata": {},
     "output_type": "execute_result"
    }
   ],
   "source": [
    "data['LIFESTAGE'].nunique()"
   ]
  },
  {
   "cell_type": "code",
   "execution_count": 116,
   "id": "42429503",
   "metadata": {},
   "outputs": [
    {
     "data": {
      "text/plain": [
       "array(['YOUNG SINGLES/COUPLES', 'YOUNG FAMILIES', 'OLDER SINGLES/COUPLES',\n",
       "       'MIDAGE SINGLES/COUPLES', 'NEW FAMILIES', 'OLDER FAMILIES',\n",
       "       'RETIREES'], dtype=object)"
      ]
     },
     "execution_count": 116,
     "metadata": {},
     "output_type": "execute_result"
    }
   ],
   "source": [
    "data['LIFESTAGE'].unique()"
   ]
  },
  {
   "cell_type": "code",
   "execution_count": 117,
   "id": "48151a79",
   "metadata": {},
   "outputs": [
    {
     "data": {
      "text/plain": [
       "LIFESTAGE\n",
       "OLDER SINGLES/COUPLES     54479\n",
       "RETIREES                  49763\n",
       "OLDER FAMILIES            48596\n",
       "YOUNG FAMILIES            43592\n",
       "YOUNG SINGLES/COUPLES     36377\n",
       "MIDAGE SINGLES/COUPLES    25110\n",
       "NEW FAMILIES               6919\n",
       "Name: count, dtype: int64"
      ]
     },
     "execution_count": 117,
     "metadata": {},
     "output_type": "execute_result"
    }
   ],
   "source": [
    "data['LIFESTAGE'].value_counts()"
   ]
  },
  {
   "cell_type": "code",
   "execution_count": 118,
   "id": "2eed4e0e",
   "metadata": {},
   "outputs": [
    {
     "data": {
      "text/plain": [
       "3"
      ]
     },
     "execution_count": 118,
     "metadata": {},
     "output_type": "execute_result"
    }
   ],
   "source": [
    "data['PREMIUM_CUSTOMER'].nunique()"
   ]
  },
  {
   "cell_type": "code",
   "execution_count": 119,
   "id": "83205c9b",
   "metadata": {},
   "outputs": [
    {
     "data": {
      "text/plain": [
       "array(['Premium', 'Mainstream', 'Budget'], dtype=object)"
      ]
     },
     "execution_count": 119,
     "metadata": {},
     "output_type": "execute_result"
    }
   ],
   "source": [
    "data['PREMIUM_CUSTOMER'].unique()"
   ]
  },
  {
   "cell_type": "code",
   "execution_count": 120,
   "id": "7f28788c",
   "metadata": {},
   "outputs": [
    {
     "data": {
      "text/plain": [
       "PREMIUM_CUSTOMER\n",
       "Mainstream    101988\n",
       "Budget         93157\n",
       "Premium        69691\n",
       "Name: count, dtype: int64"
      ]
     },
     "execution_count": 120,
     "metadata": {},
     "output_type": "execute_result"
    }
   ],
   "source": [
    "data['PREMIUM_CUSTOMER'].value_counts()"
   ]
  },
  {
   "cell_type": "markdown",
   "id": "e69e6936",
   "metadata": {},
   "source": [
    "# Exploratory Data Analysis"
   ]
  },
  {
   "cell_type": "code",
   "execution_count": 121,
   "id": "9b74f343",
   "metadata": {},
   "outputs": [
    {
     "data": {
      "text/plain": [
       "PROD_NAME            object\n",
       "PROD_QTY              int64\n",
       "TOT_SALES           float64\n",
       "LIFESTAGE            object\n",
       "PREMIUM_CUSTOMER     object\n",
       "dtype: object"
      ]
     },
     "execution_count": 121,
     "metadata": {},
     "output_type": "execute_result"
    }
   ],
   "source": [
    "Discrete_categorical=['PROD_NAME','LIFESTAGE', 'PREMIUM_CUSTOMER']\n",
    "Discrete_count=['PROD_QTY','TOT_SALES']\n",
    "data.dtypes"
   ]
  },
  {
   "cell_type": "markdown",
   "id": "513bca96",
   "metadata": {},
   "source": [
    "# for categorical variable"
   ]
  },
  {
   "cell_type": "code",
   "execution_count": 122,
   "id": "ec785841",
   "metadata": {},
   "outputs": [
    {
     "data": {
      "text/html": [
       "<div>\n",
       "<style scoped>\n",
       "    .dataframe tbody tr th:only-of-type {\n",
       "        vertical-align: middle;\n",
       "    }\n",
       "\n",
       "    .dataframe tbody tr th {\n",
       "        vertical-align: top;\n",
       "    }\n",
       "\n",
       "    .dataframe thead th {\n",
       "        text-align: right;\n",
       "    }\n",
       "</style>\n",
       "<table border=\"1\" class=\"dataframe\">\n",
       "  <thead>\n",
       "    <tr style=\"text-align: right;\">\n",
       "      <th></th>\n",
       "      <th>PROD_NAME</th>\n",
       "      <th>LIFESTAGE</th>\n",
       "      <th>PREMIUM_CUSTOMER</th>\n",
       "    </tr>\n",
       "  </thead>\n",
       "  <tbody>\n",
       "    <tr>\n",
       "      <th>count</th>\n",
       "      <td>264836</td>\n",
       "      <td>264836</td>\n",
       "      <td>264836</td>\n",
       "    </tr>\n",
       "    <tr>\n",
       "      <th>unique</th>\n",
       "      <td>114</td>\n",
       "      <td>7</td>\n",
       "      <td>3</td>\n",
       "    </tr>\n",
       "    <tr>\n",
       "      <th>top</th>\n",
       "      <td>Kettle Mozzarella   Basil &amp; Pesto 175g</td>\n",
       "      <td>OLDER SINGLES/COUPLES</td>\n",
       "      <td>Mainstream</td>\n",
       "    </tr>\n",
       "    <tr>\n",
       "      <th>freq</th>\n",
       "      <td>3304</td>\n",
       "      <td>54479</td>\n",
       "      <td>101988</td>\n",
       "    </tr>\n",
       "  </tbody>\n",
       "</table>\n",
       "</div>"
      ],
      "text/plain": [
       "                                     PROD_NAME              LIFESTAGE  \\\n",
       "count                                   264836                 264836   \n",
       "unique                                     114                      7   \n",
       "top     Kettle Mozzarella   Basil & Pesto 175g  OLDER SINGLES/COUPLES   \n",
       "freq                                      3304                  54479   \n",
       "\n",
       "       PREMIUM_CUSTOMER  \n",
       "count            264836  \n",
       "unique                3  \n",
       "top          Mainstream  \n",
       "freq             101988  "
      ]
     },
     "execution_count": 122,
     "metadata": {},
     "output_type": "execute_result"
    }
   ],
   "source": [
    "data[Discrete_categorical].describe()"
   ]
  },
  {
   "cell_type": "code",
   "execution_count": 123,
   "id": "4057812d",
   "metadata": {},
   "outputs": [
    {
     "data": {
      "text/html": [
       "<div>\n",
       "<style scoped>\n",
       "    .dataframe tbody tr th:only-of-type {\n",
       "        vertical-align: middle;\n",
       "    }\n",
       "\n",
       "    .dataframe tbody tr th {\n",
       "        vertical-align: top;\n",
       "    }\n",
       "\n",
       "    .dataframe thead th {\n",
       "        text-align: right;\n",
       "    }\n",
       "</style>\n",
       "<table border=\"1\" class=\"dataframe\">\n",
       "  <thead>\n",
       "    <tr style=\"text-align: right;\">\n",
       "      <th></th>\n",
       "      <th>PROD_NAME</th>\n",
       "      <th>LIFESTAGE</th>\n",
       "      <th>PREMIUM_CUSTOMER</th>\n",
       "    </tr>\n",
       "  </thead>\n",
       "  <tbody>\n",
       "    <tr>\n",
       "      <th>count</th>\n",
       "      <td>264836</td>\n",
       "      <td>264836</td>\n",
       "      <td>264836</td>\n",
       "    </tr>\n",
       "    <tr>\n",
       "      <th>unique</th>\n",
       "      <td>114</td>\n",
       "      <td>7</td>\n",
       "      <td>3</td>\n",
       "    </tr>\n",
       "    <tr>\n",
       "      <th>top</th>\n",
       "      <td>Kettle Mozzarella   Basil &amp; Pesto 175g</td>\n",
       "      <td>OLDER SINGLES/COUPLES</td>\n",
       "      <td>Mainstream</td>\n",
       "    </tr>\n",
       "    <tr>\n",
       "      <th>freq</th>\n",
       "      <td>3304</td>\n",
       "      <td>54479</td>\n",
       "      <td>101988</td>\n",
       "    </tr>\n",
       "  </tbody>\n",
       "</table>\n",
       "</div>"
      ],
      "text/plain": [
       "                                     PROD_NAME              LIFESTAGE  \\\n",
       "count                                   264836                 264836   \n",
       "unique                                     114                      7   \n",
       "top     Kettle Mozzarella   Basil & Pesto 175g  OLDER SINGLES/COUPLES   \n",
       "freq                                      3304                  54479   \n",
       "\n",
       "       PREMIUM_CUSTOMER  \n",
       "count            264836  \n",
       "unique                3  \n",
       "top          Mainstream  \n",
       "freq             101988  "
      ]
     },
     "execution_count": 123,
     "metadata": {},
     "output_type": "execute_result"
    }
   ],
   "source": [
    "data[Discrete_categorical].describe()"
   ]
  },
  {
   "cell_type": "code",
   "execution_count": 124,
   "id": "34548f59",
   "metadata": {},
   "outputs": [
    {
     "data": {
      "image/png": "[encoded data removed]",
      "text/plain": [
       "<Figure size 2800x800 with 2 Axes>"
      ]
     },
     "metadata": {},
     "output_type": "display_data"
    }
   ],
   "source": [
    "plt.rcParams['figure.figsize'] = (28, 8)\n",
    "plt.subplot(2, 3, 1)\n",
    "sns.countplot(data=data, y='LIFESTAGE') \n",
    "plt.subplot(2, 3, 2)\n",
    "sns.countplot(data=data, y='PREMIUM_CUSTOMER') \n",
    "plt.suptitle('Univariate Analysis on Categorical Columns')\n",
    "plt.show()\n"
   ]
  },
  {
   "cell_type": "code",
   "execution_count": 125,
   "id": "0800d4a8",
   "metadata": {},
   "outputs": [
    {
     "data": {
      "text/plain": [
       "112"
      ]
     },
     "execution_count": 125,
     "metadata": {},
     "output_type": "execute_result"
    }
   ],
   "source": [
    "data['TOT_SALES'].nunique()"
   ]
  },
  {
   "cell_type": "code",
   "execution_count": 126,
   "id": "91e66ccc",
   "metadata": {},
   "outputs": [
    {
     "name": "stdout",
     "output_type": "stream",
     "text": [
      "impact of lifestage on premium customer\n",
      "LIFESTAGE         MIDAGE SINGLES/COUPLES  NEW FAMILIES  OLDER FAMILIES  \\\n",
      "PREMIUM_CUSTOMER                                                         \n",
      "Budget                              5020          3005           23160   \n",
      "Mainstream                         11874          2325           14244   \n",
      "Premium                             8216          1589           11192   \n",
      "\n",
      "LIFESTAGE         OLDER SINGLES/COUPLES  RETIREES  YOUNG FAMILIES  \\\n",
      "PREMIUM_CUSTOMER                                                    \n",
      "Budget                            18407     15201           19122   \n",
      "Mainstream                        18318     21466           12907   \n",
      "Premium                           17754     13096           11563   \n",
      "\n",
      "LIFESTAGE         YOUNG SINGLES/COUPLES  \n",
      "PREMIUM_CUSTOMER                         \n",
      "Budget                             9242  \n",
      "Mainstream                        20854  \n",
      "Premium                            6281  \n",
      "\n",
      "\n",
      "impact of products on premium customer\n",
      "PROD_NAME         Burger Rings 220g  CCs Nacho Cheese    175g  \\\n",
      "PREMIUM_CUSTOMER                                                \n",
      "Budget                          579                       564   \n",
      "Mainstream                      548                       543   \n",
      "Premium                         437                       391   \n",
      "\n",
      "PROD_NAME         CCs Original 175g  CCs Tasty Cheese    175g  \\\n",
      "PREMIUM_CUSTOMER                                                \n",
      "Budget                          550                       565   \n",
      "Mainstream                      545                       543   \n",
      "Premium                         419                       431   \n",
      "\n",
      "PROD_NAME         Cheetos Chs & Bacon Balls 190g  Cheetos Puffs 165g  \\\n",
      "PREMIUM_CUSTOMER                                                       \n",
      "Budget                                       534                 517   \n",
      "Mainstream                                   565                 546   \n",
      "Premium                                      380                 385   \n",
      "\n",
      "PROD_NAME         Cheezels Cheese 330g  Cheezels Cheese Box 125g  \\\n",
      "PREMIUM_CUSTOMER                                                   \n",
      "Budget                            1084                       542   \n",
      "Mainstream                        1230                       505   \n",
      "Premium                            835                       407   \n",
      "\n",
      "PROD_NAME         Cobs Popd Sea Salt  Chips 110g  \\\n",
      "PREMIUM_CUSTOMER                                   \n",
      "Budget                                      1132   \n",
      "Mainstream                                  1298   \n",
      "Premium                                      835   \n",
      "\n",
      "PROD_NAME         Cobs Popd Sour Crm  &Chives Chips 110g  ...  \\\n",
      "PREMIUM_CUSTOMER                                          ...   \n",
      "Budget                                              1051  ...   \n",
      "Mainstream                                          1278  ...   \n",
      "Premium                                              830  ...   \n",
      "\n",
      "PROD_NAME         WW Crinkle Cut      Chicken 175g  \\\n",
      "PREMIUM_CUSTOMER                                     \n",
      "Budget                                         569   \n",
      "Mainstream                                     517   \n",
      "Premium                                        381   \n",
      "\n",
      "PROD_NAME         WW Crinkle Cut      Original 175g  \\\n",
      "PREMIUM_CUSTOMER                                      \n",
      "Budget                                          526   \n",
      "Mainstream                                      499   \n",
      "Premium                                         385   \n",
      "\n",
      "PROD_NAME         WW D/Style Chip     Sea Salt 200g  \\\n",
      "PREMIUM_CUSTOMER                                      \n",
      "Budget                                          569   \n",
      "Mainstream                                      513   \n",
      "Premium                                         387   \n",
      "\n",
      "PROD_NAME         WW Original Corn    Chips 200g  \\\n",
      "PREMIUM_CUSTOMER                                   \n",
      "Budget                                       554   \n",
      "Mainstream                                   499   \n",
      "Premium                                      442   \n",
      "\n",
      "PROD_NAME         WW Original Stacked Chips 160g  \\\n",
      "PREMIUM_CUSTOMER                                   \n",
      "Budget                                       552   \n",
      "Mainstream                                   515   \n",
      "Premium                                      420   \n",
      "\n",
      "PROD_NAME         WW Sour Cream &OnionStacked Chips 160g  \\\n",
      "PREMIUM_CUSTOMER                                           \n",
      "Budget                                               570   \n",
      "Mainstream                                           501   \n",
      "Premium                                              412   \n",
      "\n",
      "PROD_NAME         WW Supreme Cheese   Corn Chips 200g  \\\n",
      "PREMIUM_CUSTOMER                                        \n",
      "Budget                                            541   \n",
      "Mainstream                                        542   \n",
      "Premium                                           426   \n",
      "\n",
      "PROD_NAME         Woolworths Cheese   Rings 190g  \\\n",
      "PREMIUM_CUSTOMER                                   \n",
      "Budget                                       563   \n",
      "Mainstream                                   544   \n",
      "Premium                                      409   \n",
      "\n",
      "PROD_NAME         Woolworths Medium   Salsa 300g  \\\n",
      "PREMIUM_CUSTOMER                                   \n",
      "Budget                                       520   \n",
      "Mainstream                                   517   \n",
      "Premium                                      393   \n",
      "\n",
      "PROD_NAME         Woolworths Mild     Salsa 300g  \n",
      "PREMIUM_CUSTOMER                                  \n",
      "Budget                                       522  \n",
      "Mainstream                                   546  \n",
      "Premium                                      423  \n",
      "\n",
      "[3 rows x 114 columns]\n",
      "\n",
      "\n",
      "impact of premium customer on life stage\n",
      "PREMIUM_CUSTOMER        Budget  Mainstream  Premium\n",
      "LIFESTAGE                                          \n",
      "MIDAGE SINGLES/COUPLES    5020       11874     8216\n",
      "NEW FAMILIES              3005        2325     1589\n",
      "OLDER FAMILIES           23160       14244    11192\n",
      "OLDER SINGLES/COUPLES    18407       18318    17754\n",
      "RETIREES                 15201       21466    13096\n",
      "YOUNG FAMILIES           19122       12907    11563\n",
      "YOUNG SINGLES/COUPLES     9242       20854     6281\n",
      "\n",
      "\n",
      "impact of products on life stage\n",
      "PROD_NAME               Burger Rings 220g  CCs Nacho Cheese    175g  \\\n",
      "LIFESTAGE                                                             \n",
      "MIDAGE SINGLES/COUPLES                152                       156   \n",
      "NEW FAMILIES                           40                        26   \n",
      "OLDER FAMILIES                        353                       317   \n",
      "OLDER SINGLES/COUPLES                 292                       243   \n",
      "RETIREES                              256                       225   \n",
      "YOUNG FAMILIES                        293                       313   \n",
      "YOUNG SINGLES/COUPLES                 178                       218   \n",
      "\n",
      "PROD_NAME               CCs Original 175g  CCs Tasty Cheese    175g  \\\n",
      "LIFESTAGE                                                             \n",
      "MIDAGE SINGLES/COUPLES                141                       136   \n",
      "NEW FAMILIES                           32                        35   \n",
      "OLDER FAMILIES                        306                       318   \n",
      "OLDER SINGLES/COUPLES                 295                       313   \n",
      "RETIREES                              275                       241   \n",
      "YOUNG FAMILIES                        292                       293   \n",
      "YOUNG SINGLES/COUPLES                 173                       203   \n",
      "\n",
      "PROD_NAME               Cheetos Chs & Bacon Balls 190g  Cheetos Puffs 165g  \\\n",
      "LIFESTAGE                                                                    \n",
      "MIDAGE SINGLES/COUPLES                             141                 124   \n",
      "NEW FAMILIES                                        35                  27   \n",
      "OLDER FAMILIES                                     306                 309   \n",
      "OLDER SINGLES/COUPLES                              318                 262   \n",
      "RETIREES                                           226                 265   \n",
      "YOUNG FAMILIES                                     276                 274   \n",
      "YOUNG SINGLES/COUPLES                              177                 187   \n",
      "\n",
      "PROD_NAME               Cheezels Cheese 330g  Cheezels Cheese Box 125g  \\\n",
      "LIFESTAGE                                                                \n",
      "MIDAGE SINGLES/COUPLES                   335                       108   \n",
      "NEW FAMILIES                              76                        53   \n",
      "OLDER FAMILIES                           516                       297   \n",
      "OLDER SINGLES/COUPLES                    660                       306   \n",
      "RETIREES                                 611                       256   \n",
      "YOUNG FAMILIES                           514                       257   \n",
      "YOUNG SINGLES/COUPLES                    437                       177   \n",
      "\n",
      "PROD_NAME               Cobs Popd Sea Salt  Chips 110g  \\\n",
      "LIFESTAGE                                                \n",
      "MIDAGE SINGLES/COUPLES                             318   \n",
      "NEW FAMILIES                                        84   \n",
      "OLDER FAMILIES                                     516   \n",
      "OLDER SINGLES/COUPLES                              727   \n",
      "RETIREES                                           648   \n",
      "YOUNG FAMILIES                                     523   \n",
      "YOUNG SINGLES/COUPLES                              449   \n",
      "\n",
      "PROD_NAME               Cobs Popd Sour Crm  &Chives Chips 110g  ...  \\\n",
      "LIFESTAGE                                                       ...   \n",
      "MIDAGE SINGLES/COUPLES                                     320  ...   \n",
      "NEW FAMILIES                                               102  ...   \n",
      "OLDER FAMILIES                                             559  ...   \n",
      "OLDER SINGLES/COUPLES                                      646  ...   \n",
      "RETIREES                                                   586  ...   \n",
      "YOUNG FAMILIES                                             475  ...   \n",
      "YOUNG SINGLES/COUPLES                                      471  ...   \n",
      "\n",
      "PROD_NAME               WW Crinkle Cut      Chicken 175g  \\\n",
      "LIFESTAGE                                                  \n",
      "MIDAGE SINGLES/COUPLES                               101   \n",
      "NEW FAMILIES                                          32   \n",
      "OLDER FAMILIES                                       322   \n",
      "OLDER SINGLES/COUPLES                                316   \n",
      "RETIREES                                             250   \n",
      "YOUNG FAMILIES                                       280   \n",
      "YOUNG SINGLES/COUPLES                                166   \n",
      "\n",
      "PROD_NAME               WW Crinkle Cut      Original 175g  \\\n",
      "LIFESTAGE                                                   \n",
      "MIDAGE SINGLES/COUPLES                                128   \n",
      "NEW FAMILIES                                           35   \n",
      "OLDER FAMILIES                                        310   \n",
      "OLDER SINGLES/COUPLES                                 259   \n",
      "RETIREES                                              246   \n",
      "YOUNG FAMILIES                                        269   \n",
      "YOUNG SINGLES/COUPLES                                 163   \n",
      "\n",
      "PROD_NAME               WW D/Style Chip     Sea Salt 200g  \\\n",
      "LIFESTAGE                                                   \n",
      "MIDAGE SINGLES/COUPLES                                105   \n",
      "NEW FAMILIES                                           37   \n",
      "OLDER FAMILIES                                        354   \n",
      "OLDER SINGLES/COUPLES                                 272   \n",
      "RETIREES                                              237   \n",
      "YOUNG FAMILIES                                        281   \n",
      "YOUNG SINGLES/COUPLES                                 183   \n",
      "\n",
      "PROD_NAME               WW Original Corn    Chips 200g  \\\n",
      "LIFESTAGE                                                \n",
      "MIDAGE SINGLES/COUPLES                             139   \n",
      "NEW FAMILIES                                        34   \n",
      "OLDER FAMILIES                                     308   \n",
      "OLDER SINGLES/COUPLES                              305   \n",
      "RETIREES                                           255   \n",
      "YOUNG FAMILIES                                     282   \n",
      "YOUNG SINGLES/COUPLES                              172   \n",
      "\n",
      "PROD_NAME               WW Original Stacked Chips 160g  \\\n",
      "LIFESTAGE                                                \n",
      "MIDAGE SINGLES/COUPLES                             140   \n",
      "NEW FAMILIES                                        37   \n",
      "OLDER FAMILIES                                     310   \n",
      "OLDER SINGLES/COUPLES                              296   \n",
      "RETIREES                                           234   \n",
      "YOUNG FAMILIES                                     270   \n",
      "YOUNG SINGLES/COUPLES                              200   \n",
      "\n",
      "PROD_NAME               WW Sour Cream &OnionStacked Chips 160g  \\\n",
      "LIFESTAGE                                                        \n",
      "MIDAGE SINGLES/COUPLES                                     150   \n",
      "NEW FAMILIES                                                30   \n",
      "OLDER FAMILIES                                             328   \n",
      "OLDER SINGLES/COUPLES                                      287   \n",
      "RETIREES                                                   249   \n",
      "YOUNG FAMILIES                                             251   \n",
      "YOUNG SINGLES/COUPLES                                      188   \n",
      "\n",
      "PROD_NAME               WW Supreme Cheese   Corn Chips 200g  \\\n",
      "LIFESTAGE                                                     \n",
      "MIDAGE SINGLES/COUPLES                                  144   \n",
      "NEW FAMILIES                                             35   \n",
      "OLDER FAMILIES                                          331   \n",
      "OLDER SINGLES/COUPLES                                   300   \n",
      "RETIREES                                                239   \n",
      "YOUNG FAMILIES                                          277   \n",
      "YOUNG SINGLES/COUPLES                                   183   \n",
      "\n",
      "PROD_NAME               Woolworths Cheese   Rings 190g  \\\n",
      "LIFESTAGE                                                \n",
      "MIDAGE SINGLES/COUPLES                             125   \n",
      "NEW FAMILIES                                        36   \n",
      "OLDER FAMILIES                                     346   \n",
      "OLDER SINGLES/COUPLES                              281   \n",
      "RETIREES                                           235   \n",
      "YOUNG FAMILIES                                     301   \n",
      "YOUNG SINGLES/COUPLES                              192   \n",
      "\n",
      "PROD_NAME               Woolworths Medium   Salsa 300g  \\\n",
      "LIFESTAGE                                                \n",
      "MIDAGE SINGLES/COUPLES                             137   \n",
      "NEW FAMILIES                                        20   \n",
      "OLDER FAMILIES                                     301   \n",
      "OLDER SINGLES/COUPLES                              272   \n",
      "RETIREES                                           266   \n",
      "YOUNG FAMILIES                                     267   \n",
      "YOUNG SINGLES/COUPLES                              167   \n",
      "\n",
      "PROD_NAME               Woolworths Mild     Salsa 300g  \n",
      "LIFESTAGE                                               \n",
      "MIDAGE SINGLES/COUPLES                             120  \n",
      "NEW FAMILIES                                        34  \n",
      "OLDER FAMILIES                                     292  \n",
      "OLDER SINGLES/COUPLES                              305  \n",
      "RETIREES                                           240  \n",
      "YOUNG FAMILIES                                     283  \n",
      "YOUNG SINGLES/COUPLES                              217  \n",
      "\n",
      "[7 rows x 114 columns]\n",
      "\n",
      "\n"
     ]
    }
   ],
   "source": [
    "print('impact of lifestage on premium customer')\n",
    "print(pd.crosstab(data['PREMIUM_CUSTOMER'],data['LIFESTAGE']))\n",
    "print('\\n')\n",
    "print('impact of products on premium customer')\n",
    "print(pd.crosstab(data['PREMIUM_CUSTOMER'],data['PROD_NAME']))\n",
    "print('\\n')\n",
    "print('impact of premium customer on life stage')\n",
    "print(pd.crosstab(data['LIFESTAGE'],data['PREMIUM_CUSTOMER']))\n",
    "print('\\n')\n",
    "print('impact of products on life stage')\n",
    "print(pd.crosstab(data['LIFESTAGE'],data['PROD_NAME']))\n",
    "print('\\n')"
   ]
  },
  {
   "cell_type": "code",
   "execution_count": 127,
   "id": "e6289e9b",
   "metadata": {},
   "outputs": [
    {
     "data": {
      "text/plain": [
       "PROD_NAME           0\n",
       "PROD_QTY            0\n",
       "TOT_SALES           0\n",
       "LIFESTAGE           0\n",
       "PREMIUM_CUSTOMER    0\n",
       "dtype: int64"
      ]
     },
     "execution_count": 127,
     "metadata": {},
     "output_type": "execute_result"
    }
   ],
   "source": [
    "data.isnull().sum()"
   ]
  },
  {
   "cell_type": "code",
   "execution_count": 128,
   "id": "9896aa55",
   "metadata": {},
   "outputs": [
    {
     "data": {
      "image/png": "[encoded data removed]",
      "text/plain": [
       "<Figure size 2800x800 with 1 Axes>"
      ]
     },
     "metadata": {},
     "output_type": "display_data"
    }
   ],
   "source": [
    "plt.subplot(2,4,2)\n",
    "sns.boxplot(data['TOT_SALES'])\n",
    "plt.suptitle('outliers in data')\n",
    "plt.show()"
   ]
  },
  {
   "cell_type": "code",
   "execution_count": null,
   "id": "a5b5ef61",
   "metadata": {},
   "outputs": [],
   "source": [
    "#outliers can be retained because it could have high amount of total sales"
   ]
  },
  {
   "cell_type": "code",
   "execution_count": 132,
   "id": "5c094307",
   "metadata": {},
   "outputs": [],
   "source": [
    "\n",
    "   def comprehensive_retail_analysis(data):\n",
    "    # 1. Product Analysis\n",
    "    product_metrics = data.groupby('PROD_NAME').agg({\n",
    "        'PROD_QTY': 'sum',\n",
    "        'TOT_SALES': 'sum'\n",
    "    }).sort_values('TOT_SALES', ascending=False)\n",
    "    \n",
    "    # 2. Customer Segmentation\n",
    "    customer_segments = data.groupby(['LIFESTAGE', 'PREMIUM_CUSTOMER']).agg({\n",
    "        'TXN_ID': 'count',\n",
    "        'TOT_SALES': ['sum', 'mean'],\n",
    "        'PROD_QTY': 'sum'\n",
    "    }).round(2)\n",
    "    \n",
    "    # 3. Prepare data for classification\n",
    "    customer_metrics = data.groupby('LYLTY_CARD_NBR').agg({\n",
    "        'TXN_ID': 'count',\n",
    "        'TOT_SALES': ['sum', 'mean'],\n",
    "        'LIFESTAGE': 'first',\n",
    "        'PREMIUM_CUSTOMER': 'first'\n",
    "    }).reset_index()\n",
    "    \n",
    "    # 4. Machine Learning Analysis\n",
    "    le_lifestage = LabelEncoder()\n",
    "    X = customer_metrics[['TXN_ID', ('TOT_SALES', 'sum'), ('TOT_SALES', 'mean')]]\n",
    "    y = le_lifestage.fit_transform(customer_metrics['LIFESTAGE'])\n",
    "    \n",
    "    X_train, X_test, y_train, y_test = train_test_split(X, y, test_size=0.2, random_state=42)\n",
    "    rf = RandomForestClassifier(n_estimators=100, random_state=42)\n",
    "    rf.fit(X_train, y_train)\n",
    "    \n",
    "    y_pred = rf.predict(X_test)\n",
    "    accuracy = accuracy_score(y_test, y_pred)\n",
    "    class_report = classification_report(y_test, y_pred, \n",
    "                                      target_names=le_lifestage.classes_,\n",
    "                                      output_dict=True)\n",
    "    \n",
    "    # 5. Premium Customer Analysis\n",
    "    premium_analysis = data.groupby('PREMIUM_CUSTOMER').agg({\n",
    "        'TOT_SALES': ['sum', 'mean'],\n",
    "        'PROD_QTY': ['sum', 'mean'],\n",
    "        'TXN_ID': 'count'\n",
    "    }).round(2)\n",
    "    \n",
    "    return {\n",
    "        'top_products': product_metrics.head(10),\n",
    "        'customer_segments': customer_segments,\n",
    "        'model_performance': {\n",
    "            'accuracy': accuracy,\n",
    "            'classification_report': pd.DataFrame(class_report).transpose(),\n",
    "            'feature_importance': pd.DataFrame({\n",
    "                'feature': ['transaction_count', 'total_sales', 'avg_sales'],\n",
    "                'importance': rf.feature_importances_\n",
    "            })\n",
    "        },\n",
    "        'premium_analysis': premium_analysis\n",
    "    }\n",
    "\n",
    "def print_comprehensive_results(results):\n",
    "    print(\"1. TOP 10 MOST PROFITABLE PRODUCTS\")\n",
    "    print(\"-\" * 50)\n",
    "    print(results['top_products'][['TOT_SALES']])\n",
    "    \n",
    "    print(\"\\n2. MODEL PERFORMANCE\")\n",
    "    print(\"-\" * 50)\n",
    "    print(f\"Overall Accuracy: {results['model_performance']['accuracy']:.2%}\")\n",
    "    print(\"\\nClassification Report:\")\n",
    "    print(results['model_performance']['classification_report'][['precision', 'recall', 'f1-score']].round(3))\n",
    "    \n",
    "    print(\"\\n3. CUSTOMER SEGMENT ANALYSIS\")\n",
    "    print(\"-\" * 50)\n",
    "    print(results['customer_segments'])\n",
    "    \n",
    "    print(\"\\n4. PREMIUM CUSTOMER ANALYSIS\")\n",
    "    print(\"-\" * 50)\n",
    "    print(results['premium_analysis'])\n",
    "    \n",
    "    print(\"\\n5. FEATURE IMPORTANCE\")\n",
    "    print(\"-\" * 50)\n",
    "    print(results['model_performance']['feature_importance'])"
   ]
  },
  {
   "cell_type": "code",
   "execution_count": 131,
   "id": "c919bffb",
   "metadata": {},
   "outputs": [],
   "source": []
  },
  {
   "cell_type": "code",
   "execution_count": null,
   "id": "a33c462f",
   "metadata": {},
   "outputs": [],
   "source": []
  }
 ],
 "metadata": {
  "kernelspec": {
   "display_name": "Python 3 (ipykernel)",
   "language": "python",
   "name": "python3"
  },
  "language_info": {
   "codemirror_mode": {
    "name": "ipython",
    "version": 3
   },
   "file_extension": ".py",
   "mimetype": "text/x-python",
   "name": "python",
   "nbconvert_exporter": "python",
   "pygments_lexer": "ipython3",
   "version": "3.11.5"
  }
 },
 "nbformat": 4,
 "nbformat_minor": 5
}
